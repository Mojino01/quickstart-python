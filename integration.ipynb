{
 "cells": [
  {
   "cell_type": "markdown",
   "id": "8d94732b",
   "metadata": {},
   "source": [
    "# Integrating Roboflow Into Your Application\n",
    "\n",
    "To use Roboflow with your application, you need to connect your application to a Roboflow inference engine (i.e. our hosted API, a Docker container running an inference server). Then, you can build logic on that references predictions made by your model.\n",
    "\n",
    "![image info](https://i.imgur.com/ne4q57D.png[/img)\n",
    "\n",
    "\n",
    "You can take your Roboflow models to (nearly) any destination.\n",
    "\n",
    "In this guide, we'll talk through using:\n",
    "\n",
    "1. Our hosted API and;\n",
    "2. Local deployment with our Docker container;\n",
    "\n",
    "Let's get started!\n",
    "\n",
    "-------------------\n",
    "\n",
    "## Hosted API\n",
    "\n",
    "Roboflow hosts models on infintely scaling cloud servers. If you do not have low inference latency requirements (sub 500 ms) and you do not need privately hosted inference, the hosted inference servers are ideal.\n",
    "\n",
    "Models are hosted at:\n",
    "\n",
    "* https://classify.roboflow.com\n",
    "* https://detect.roboflow.com\n",
    "* https://outline.roboflow.com\n",
    "\n",
    "_Note: In our \"model-types\" Notebook, we were hitting the hosted API in the python SDK for `model.predict()`_"
   ]
  },
  {
   "cell_type": "code",
   "execution_count": 1,
   "id": "d6a323c4",
   "metadata": {},
   "outputs": [
    {
     "name": "stdout",
     "output_type": "stream",
     "text": [
      "\r",
      "You are already logged into Roboflow. To make a different login, run roboflow.login(force=True).\n"
     ]
    }
   ],
   "source": [
    "#log into Roboflow\n",
    "import roboflow\n",
    "roboflow.login()"
   ]
  },
  {
   "cell_type": "code",
   "execution_count": 2,
   "id": "567a74d4",
   "metadata": {},
   "outputs": [
    {
     "name": "stdout",
     "output_type": "stream",
     "text": [
      "loading Roboflow workspace...\n",
      "loading Roboflow project...\n"
     ]
    }
   ],
   "source": [
    "#you can use the python SDK to post images at the Roboflow Inference APIs, like we did before\n",
    "img_url = \"https://storage.googleapis.com/roboflow-platform-sources/5w20VzQObTXjJhTjq6kad9ubrm33/u4tafZcDgtuOuWm4jIGX/original.jpg\"\n",
    "project = \"aerial-solar-panels\"\n",
    "version = 6\n",
    "model = roboflow.load_model(project=project, version=version)"
   ]
  },
  {
   "cell_type": "code",
   "execution_count": 3,
   "id": "d0ecbfbe",
   "metadata": {},
   "outputs": [
    {
     "data": {
      "text/plain": [
       "'https://detect.roboflow.com/'"
      ]
     },
     "execution_count": 3,
     "metadata": {},
     "output_type": "execute_result"
    }
   ],
   "source": [
    "model.base_url"
   ]
  },
  {
   "cell_type": "code",
   "execution_count": 4,
   "id": "c4ccfdb6",
   "metadata": {},
   "outputs": [
    {
     "data": {
      "text/plain": [
       "'https://detect.roboflow.com/aerial-solar-panels/6?api_key=4l5zOVomQmkAqlTJPVKN&name=YOUR_IMAGE.jpg&overlap=30&confidence=40&stroke=1&labels=false&format=json'"
      ]
     },
     "execution_count": 4,
     "metadata": {},
     "output_type": "execute_result"
    }
   ],
   "source": [
    "model.api_url"
   ]
  },
  {
   "cell_type": "code",
   "execution_count": 3,
   "id": "dde93615",
   "metadata": {},
   "outputs": [
    {
     "data": {
      "text/plain": [
       "[{'x': 1896.0,\n",
       "  'y': 396.0,\n",
       "  'width': 170.0,\n",
       "  'height': 196.0,\n",
       "  'confidence': 0.9106213450431824,\n",
       "  'class': 'solar-panels',\n",
       "  'image_path': 'https://storage.googleapis.com/roboflow-platform-sources/5w20VzQObTXjJhTjq6kad9ubrm33/u4tafZcDgtuOuWm4jIGX/original.jpg',\n",
       "  'prediction_type': 'ObjectDetectionModel'},\n",
       " {'x': 1966.0,\n",
       "  'y': 861.5,\n",
       "  'width': 206.0,\n",
       "  'height': 339.0,\n",
       "  'confidence': 0.8960927724838257,\n",
       "  'class': 'solar-panels',\n",
       "  'image_path': 'https://storage.googleapis.com/roboflow-platform-sources/5w20VzQObTXjJhTjq6kad9ubrm33/u4tafZcDgtuOuWm4jIGX/original.jpg',\n",
       "  'prediction_type': 'ObjectDetectionModel'}]"
      ]
     },
     "execution_count": 3,
     "metadata": {},
     "output_type": "execute_result"
    }
   ],
   "source": [
    "pred = model.predict(img_url, hosted=True)\n",
    "pred.json()[\"predictions\"][0:2]"
   ]
  },
  {
   "cell_type": "code",
   "execution_count": null,
   "id": "31e78476",
   "metadata": {},
   "outputs": [],
   "source": [
    "#you can also infer on a local image\n",
    "pred = model.predict(\"drone_scan.jpg\")\n",
    "pred.plot()"
   ]
  },
  {
   "cell_type": "code",
   "execution_count": 7,
   "id": "ee9b6ab3",
   "metadata": {},
   "outputs": [],
   "source": [
    "#the python SDK is just a wrapper around the hosted API URLs where you can pass images via URL or base64 encoded string\n",
    "#fun fact, the rest of the Roboflow SDKs use these same URLs, and you can deploy them in differnt languages and servers\n",
    "\n",
    "#example of posting at the URL directly\n",
    "import requests\n",
    "import urllib\n",
    "\n",
    "img_url = \"https://storage.googleapis.com/roboflow-platform-sources/5w20VzQObTXjJhTjq6kad9ubrm33/u4tafZcDgtuOuWm4jIGX/original.jpg\"\n",
    "request_url = model.api_url + \"&image=\" + urllib.parse.quote_plus(img_url)\n",
    "resp = requests.post(request_url)\n"
   ]
  },
  {
   "cell_type": "code",
   "execution_count": 8,
   "id": "3bec1eb5",
   "metadata": {},
   "outputs": [
    {
     "data": {
      "text/plain": [
       "[{'x': 1896.0,\n",
       "  'y': 396.0,\n",
       "  'width': 170.0,\n",
       "  'height': 196.0,\n",
       "  'confidence': 0.9106213450431824,\n",
       "  'class': 'solar-panels'},\n",
       " {'x': 1966.0,\n",
       "  'y': 861.5,\n",
       "  'width': 206.0,\n",
       "  'height': 339.0,\n",
       "  'confidence': 0.8960927724838257,\n",
       "  'class': 'solar-panels'}]"
      ]
     },
     "execution_count": 8,
     "metadata": {},
     "output_type": "execute_result"
    }
   ],
   "source": [
    "resp.json()[\"predictions\"][0:2]"
   ]
  },
  {
   "cell_type": "markdown",
   "id": "99d08692",
   "metadata": {},
   "source": [
    "## Local Deployment\n",
    "\n",
    "You can also deploy Roboflow Inference Servers locally via Docker containers. These containers accelerate inference on CPU and NVIDIA GPUs.\n",
    "\n",
    "Here is our deployment documentation for the containers:\n",
    "\n",
    "- [CPU Container](https://docs.roboflow.com/inference/enterprise/enterprise-cpu)\n",
    "- [GPU Container](https://docs.roboflow.com/inference/enterprise/enterprise-gpu)\n",
    "\n",
    "_The quickstart setup quickly spun up a local CPU inference server for us at \"http://localhost:9001\". We were invoking this server for lower latency in `model.webcam()`._"
   ]
  },
  {
   "cell_type": "code",
   "execution_count": 9,
   "id": "e143143b",
   "metadata": {},
   "outputs": [
    {
     "name": "stdout",
     "output_type": "stream",
     "text": [
      "{\r\n",
      "    \"server\": {\r\n",
      "        \"package\": \"@roboflow/inference-server\",\r\n",
      "        \"version\": \"1.4.0\"\r\n",
      "    },\r\n",
      "    \"roboflow\": {\r\n",
      "        \"package\": \"roboflow-node\",\r\n",
      "        \"version\": \"0.2.25\"\r\n",
      "    }\r\n",
      "}"
     ]
    }
   ],
   "source": [
    "!curl http://localhost:9001"
   ]
  },
  {
   "cell_type": "code",
   "execution_count": 10,
   "id": "c82a54a8",
   "metadata": {},
   "outputs": [],
   "source": [
    "request_url = request_url.replace(\"https://detect.roboflow.com\", \"http://localhost:9001\")"
   ]
  },
  {
   "cell_type": "code",
   "execution_count": 11,
   "id": "4f0a6943",
   "metadata": {},
   "outputs": [],
   "source": [
    "img_url = \"https://storage.googleapis.com/roboflow-platform-sources/5w20VzQObTXjJhTjq6kad9ubrm33/u4tafZcDgtuOuWm4jIGX/original.jpg\"\n",
    "request_url = model.api_url + \"&image=\" + urllib.parse.quote_plus(img_url)\n",
    "resp = requests.post(request_url)"
   ]
  },
  {
   "cell_type": "code",
   "execution_count": 12,
   "id": "28e495c1",
   "metadata": {},
   "outputs": [
    {
     "data": {
      "text/plain": [
       "[{'x': 1896.0,\n",
       "  'y': 396.0,\n",
       "  'width': 170.0,\n",
       "  'height': 196.0,\n",
       "  'confidence': 0.9106213450431824,\n",
       "  'class': 'solar-panels'},\n",
       " {'x': 1966.0,\n",
       "  'y': 861.5,\n",
       "  'width': 206.0,\n",
       "  'height': 339.0,\n",
       "  'confidence': 0.8960927724838257,\n",
       "  'class': 'solar-panels'}]"
      ]
     },
     "execution_count": 12,
     "metadata": {},
     "output_type": "execute_result"
    }
   ],
   "source": [
    "resp.json()[\"predictions\"][0:2]"
   ]
  },
  {
   "cell_type": "markdown",
   "id": "1262eab2",
   "metadata": {},
   "source": [
    "## Integrating Business Logic\n",
    "\n",
    "The value of your computer vision model is unlocked by hooking it up to the rest of your business's logic.\n",
    "\n",
    "As a next step, we have prepared various next step solutions for integrating your model into an application, including:\n",
    "\n",
    "* Counting objects;\n",
    "* Measuring object distance;\n",
    "* Sending texts;\n",
    "* Sending emails;\n",
    "* Controlling OBS and;\n",
    "* And more\n",
    "\n",
    "Check them out on [Roboflow Templates](https://roboflow.com/templates).\n",
    "\n",
    "![Roboflow Templates homepage](https://media.roboflow.com/quickstart/Screenshot_2023-03-08_at_11.55.54.png?ik-sdk-version=javascript-1.4.3&updatedAt=1678276565358)"
   ]
  },
  {
   "cell_type": "code",
   "execution_count": 1,
   "id": "5cf8f3f5",
   "metadata": {},
   "outputs": [
    {
     "data": {
      "text/plain": [
       "True"
      ]
     },
     "execution_count": 1,
     "metadata": {},
     "output_type": "execute_result"
    }
   ],
   "source": [
    "from notebook import notebookapp\n",
    "import webbrowser\n",
    "jupyter_server = list(notebookapp.list_running_servers())[0][\"url\"]\n",
    "webbrowser.open(jupyter_server + \"notebooks/create-models.ipynb\")"
   ]
  }
 ],
 "metadata": {
  "kernelspec": {
   "display_name": "Python 3 (ipykernel)",
   "language": "python",
   "name": "python3"
  },
  "language_info": {
   "codemirror_mode": {
    "name": "ipython",
    "version": 3
   },
   "file_extension": ".py",
   "mimetype": "text/x-python",
   "name": "python",
   "nbconvert_exporter": "python",
   "pygments_lexer": "ipython3",
   "version": "3.9.6"
  }
 },
 "nbformat": 4,
 "nbformat_minor": 5
}
