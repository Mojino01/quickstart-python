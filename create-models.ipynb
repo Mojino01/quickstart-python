{
 "cells": [
  {
   "cell_type": "markdown",
   "id": "51eeb6a3",
   "metadata": {},
   "source": [
    "# Creating Your Own Models\n",
    "\n",
    "Roboflow provides you with the tools to create your own computer vision models.\n",
    "\n",
    "The creation of CV models is centered around gathering a representative dataset and interating on that dataset as your model needs to improve."
   ]
  },
  {
   "cell_type": "code",
   "execution_count": null,
   "id": "98675b66",
   "metadata": {},
   "outputs": [],
   "source": []
  },
  {
   "cell_type": "markdown",
   "id": "1188dcf7",
   "metadata": {},
   "source": [
    "## Further Learning\n",
    "\n",
    "In this quickstart, we have scratched the surface of what you can do with Roboflow.\n",
    "\n",
    "To learn more, checkout our [blog](blog.roboflow.com), [docs](docs.roboflow.com), and dive into [the app](app.roboflow.com)."
   ]
  },
  {
   "cell_type": "code",
   "execution_count": null,
   "id": "67942f4b",
   "metadata": {},
   "outputs": [],
   "source": []
  }
 ],
 "metadata": {
  "kernelspec": {
   "display_name": "Python 3 (ipykernel)",
   "language": "python",
   "name": "python3"
  },
  "language_info": {
   "codemirror_mode": {
    "name": "ipython",
    "version": 3
   },
   "file_extension": ".py",
   "mimetype": "text/x-python",
   "name": "python",
   "nbconvert_exporter": "python",
   "pygments_lexer": "ipython3",
   "version": "3.9.12"
  }
 },
 "nbformat": 4,
 "nbformat_minor": 5
}
