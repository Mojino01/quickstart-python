{
 "cells": [
  {
   "cell_type": "markdown",
   "id": "51eeb6a3",
   "metadata": {},
   "source": [
    "# Creating and Re-Training Your Models\n",
    "\n",
    "Roboflow provides you with tools to create your computer vision (CV) models.\n",
    "\n",
    "Creating robust CV models is centered around gathering a representative dataset and iterating on that dataset as your model needs to improve.\n",
    "\n",
    "Let's walk through an example of retraining a computer vision model on Roboflow to fix a prediction error.\n",
    "\n",
    "\n",
    "## Gather a Dataset\n",
    "\n",
    "To start training your model, you need to gather a representative dataset of Images from the scenes where you are expecting your model to make inference.\n",
    "\n",
    "If you are just learning the Roboflow mechanics, you can download a dataset from [Roboflow Universe](universe.roboflow.com).\n",
    "\n",
    "## Upload and Label Your Dataset\n",
    "\n",
    "Once you have gathered your dataset, you can upload your images to Roboflow via [Web UI](app.roboflow.com) or Python code.\n",
    "\n",
    "\n"
   ]
  },
  {
   "cell_type": "code",
   "execution_count": 1,
   "id": "da1f8283",
   "metadata": {},
   "outputs": [
    {
     "name": "stdout",
     "output_type": "stream",
     "text": [
      "visit https://app.roboflow.com/auth-cli to get your authentication token.\n",
      "Paste the authentication here token here: bef7e7ab-ab87-4e76-9ef3-a130e64822f8\n",
      "loading Roboflow workspace...\n"
     ]
    }
   ],
   "source": [
    "import roboflow\n",
    "workspace = roboflow.login(force=True)"
   ]
  },
  {
   "cell_type": "code",
   "execution_count": 2,
   "id": "5588f49b",
   "metadata": {},
   "outputs": [
    {
     "data": {
      "text/plain": [
       "'JacobTesterton'"
      ]
     },
     "execution_count": 2,
     "metadata": {},
     "output_type": "execute_result"
    }
   ],
   "source": [
    "workspace.name"
   ]
  },
  {
   "cell_type": "code",
   "execution_count": 15,
   "id": "388a0a8e",
   "metadata": {},
   "outputs": [
    {
     "name": "stdout",
     "output_type": "stream",
     "text": [
      "\r",
      "loading Roboflow project...\n"
     ]
    }
   ],
   "source": [
    "#example upload\n",
    "workspace.project(\"aerial-youtube\").upload(\"drone_scan.jpg\")"
   ]
  },
  {
   "cell_type": "markdown",
   "id": "81c60e80",
   "metadata": {},
   "source": [
    "## Downloading Dataset\n",
    "\n",
    "We can use the following code to download our dataset from the Roboflow platform to our local machine. We'll download our data in the YOLOv5 PyTorch Format."
   ]
  },
  {
   "cell_type": "code",
   "execution_count": 4,
   "id": "9eff7c72",
   "metadata": {},
   "outputs": [
    {
     "name": "stdout",
     "output_type": "stream",
     "text": [
      "loading Roboflow project...\n",
      "Downloading Dataset Version Zip in Blood-Cells-1 to yolov5pytorch: 100% [9911186 / 9911186] bytes\n"
     ]
    },
    {
     "name": "stderr",
     "output_type": "stream",
     "text": [
      "Extracting Dataset Version Zip to Blood-Cells-1 in yolov5pytorch:: 100%|█████████████████████████████████████| 740/740 [00:00<00:00, 10551.96it/s]\n"
     ]
    }
   ],
   "source": [
    "dataset = workspace.project(\"blood-cells-ragq9\").version(1).download(\"yolov5pytorch\")"
   ]
  },
  {
   "cell_type": "code",
   "execution_count": 5,
   "id": "7588e5d4",
   "metadata": {},
   "outputs": [
    {
     "data": {
      "text/plain": [
       "'/Users/jacobsolawetz/roboflow/roboflow-python/Blood-Cells-1'"
      ]
     },
     "execution_count": 5,
     "metadata": {},
     "output_type": "execute_result"
    }
   ],
   "source": [
    "dataset.location"
   ]
  },
  {
   "cell_type": "markdown",
   "id": "ffeb7fc9",
   "metadata": {},
   "source": [
    "## Train a Model\n",
    "\n",
    "After you have labeled a dataset, you can:\n",
    "\n",
    "\n",
    "1) train a model inside of Roboflow via AutoML\n",
    "\n",
    "2) train externally via a notebook tutorial https://github.com/roboflow/notebooks\n",
    "\n",
    "Note, we currently support re-upload of YOLOv5 and YOLOv8 for subsequent model deployment.\n"
   ]
  },
  {
   "cell_type": "markdown",
   "id": "1188dcf7",
   "metadata": {},
   "source": [
    "## Further Learning\n",
    "\n",
    "In this quickstart, we have scratched the surface of what you can do with Roboflow.\n",
    "\n",
    "To learn more, checkout our [blog](blog.roboflow.com), [docs](docs.roboflow.com), and dive into [the app](app.roboflow.com)."
   ]
  }
 ],
 "metadata": {
  "kernelspec": {
   "display_name": "Python 3 (ipykernel)",
   "language": "python",
   "name": "python3"
  },
  "language_info": {
   "codemirror_mode": {
    "name": "ipython",
    "version": 3
   },
   "file_extension": ".py",
   "mimetype": "text/x-python",
   "name": "python",
   "nbconvert_exporter": "python",
   "pygments_lexer": "ipython3",
   "version": "3.9.6"
  }
 },
 "nbformat": 4,
 "nbformat_minor": 5
}
